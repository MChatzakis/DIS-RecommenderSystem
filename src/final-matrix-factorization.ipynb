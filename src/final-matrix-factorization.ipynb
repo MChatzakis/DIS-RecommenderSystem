{
 "cells": [
  {
   "cell_type": "markdown",
   "id": "ce5deda1",
   "metadata": {
    "id": "451cb8e7",
    "papermill": {
     "duration": 0.007522,
     "end_time": "2023-11-17T11:43:14.615428",
     "exception": false,
     "start_time": "2023-11-17T11:43:14.607906",
     "status": "completed"
    },
    "tags": []
   },
   "source": [
    "# 🎉 User Rating Predictions using Matrix Factorization for the MovieLens Dataset 🎉\n",
    "\n",
    "TeamMHL: Emmanouil Chatzakis, Hind El-Bouchrifi, Lluka Stojollari (emmanouil.chatzakis@epfl.ch, hind.el-bouchrifi@epfl.ch, lluka.stojollari@epfl.ch)\n",
    "\n",
    "This notebook implements an optimized Matrix Factorization recommendation system for the MovieLens dataset.\n",
    "\n",
    "November 2023, Distributed Information Systems, Project 2, EPFL"
   ]
  },
  {
   "cell_type": "markdown",
   "id": "3c11e928",
   "metadata": {
    "id": "ec89c2ce",
    "papermill": {
     "duration": 0.006915,
     "end_time": "2023-11-17T11:43:14.629439",
     "exception": false,
     "start_time": "2023-11-17T11:43:14.622524",
     "status": "completed"
    },
    "tags": []
   },
   "source": [
    "## Imports and Libraries 🚨\n",
    "\n",
    "Here, we import all the needed libraries. Make sure to install all the frameworks and libraries used below."
   ]
  },
  {
   "cell_type": "code",
   "execution_count": 1,
   "id": "0d0b3b15",
   "metadata": {
    "execution": {
     "iopub.execute_input": "2023-11-17T11:43:14.645157Z",
     "iopub.status.busy": "2023-11-17T11:43:14.644668Z",
     "iopub.status.idle": "2023-11-17T11:43:19.262561Z",
     "shell.execute_reply": "2023-11-17T11:43:19.261186Z"
    },
    "id": "6fe6a07e",
    "papermill": {
     "duration": 4.628603,
     "end_time": "2023-11-17T11:43:19.265130",
     "exception": false,
     "start_time": "2023-11-17T11:43:14.636527",
     "status": "completed"
    },
    "tags": []
   },
   "outputs": [],
   "source": [
    "import torch\n",
    "import time\n",
    "import os\n",
    "import random\n",
    "\n",
    "import pandas as pd\n",
    "import numpy as np\n",
    "\n",
    "import matplotlib.pyplot as plt\n",
    "import torch.optim as optim\n",
    "\n",
    "from collections import defaultdict\n",
    "\n",
    "from torch import nn\n",
    "from torch.utils.data import Dataset, DataLoader\n",
    "from torch.optim.lr_scheduler import StepLR, ReduceLROnPlateau\n",
    "\n",
    "from tqdm import tqdm\n",
    "\n",
    "from sklearn.metrics import mean_squared_error\n",
    "from sklearn.preprocessing import MultiLabelBinarizer, LabelEncoder\n",
    "from sklearn.feature_extraction.text import CountVectorizer\n",
    "from sklearn.metrics import precision_score, recall_score, f1_score\n",
    "from sklearn.model_selection import train_test_split\n",
    "\n",
    "seed_value = 42\n",
    "np.random.seed(seed_value)\n",
    "torch.manual_seed(seed_value)\n",
    "random.seed(seed_value)"
   ]
  },
  {
   "cell_type": "markdown",
   "id": "109da8e9",
   "metadata": {
    "papermill": {
     "duration": 0.006261,
     "end_time": "2023-11-17T11:43:19.278249",
     "exception": false,
     "start_time": "2023-11-17T11:43:19.271988",
     "status": "completed"
    },
    "tags": []
   },
   "source": [
    "## Object and Dataset definitions 💡\n",
    "\n",
    "Here we define the Matrix Factorization modules and datasets, as well as helper functions to be used later."
   ]
  },
  {
   "cell_type": "code",
   "execution_count": 2,
   "id": "2a2e9463",
   "metadata": {
    "execution": {
     "iopub.execute_input": "2023-11-17T11:43:19.293436Z",
     "iopub.status.busy": "2023-11-17T11:43:19.292647Z",
     "iopub.status.idle": "2023-11-17T11:43:19.300817Z",
     "shell.execute_reply": "2023-11-17T11:43:19.299278Z"
    },
    "papermill": {
     "duration": 0.018912,
     "end_time": "2023-11-17T11:43:19.303642",
     "exception": false,
     "start_time": "2023-11-17T11:43:19.284730",
     "status": "completed"
    },
    "tags": []
   },
   "outputs": [],
   "source": [
    "# Define the movielens dataser representation\n",
    "class MovieRatingDataset(Dataset):\n",
    "    \"\"\"Dataset representing a movie for Matrix Factorization\"\"\"\n",
    "    def __init__(self, dataframe, movie_to_genre_vector):\n",
    "        self.dataframe = dataframe\n",
    "        self.movie_to_genre_vector = movie_to_genre_vector\n",
    "        self.x_user_movie = list(zip(self.dataframe.userId.values, self.dataframe.movieId.values))\n",
    "        self.y_rating = self.dataframe.rating.values\n",
    "\n",
    "    def __len__(self):\n",
    "        return len(self.dataframe)\n",
    "\n",
    "    def __getitem__(self, idx):\n",
    "        movie_id = self.x_user_movie[idx][1]\n",
    "        genre_vector = self.movie_to_genre_vector[movie_id.item()]\n",
    "\n",
    "        return (\n",
    "            self.x_user_movie[idx],\n",
    "            self.y_rating[idx],\n",
    "            genre_vector,\n",
    "        ) "
   ]
  },
  {
   "cell_type": "code",
   "execution_count": 3,
   "id": "fb111bff",
   "metadata": {
    "execution": {
     "iopub.execute_input": "2023-11-17T11:43:19.319533Z",
     "iopub.status.busy": "2023-11-17T11:43:19.318861Z",
     "iopub.status.idle": "2023-11-17T11:43:19.328019Z",
     "shell.execute_reply": "2023-11-17T11:43:19.326652Z"
    },
    "papermill": {
     "duration": 0.01977,
     "end_time": "2023-11-17T11:43:19.330344",
     "exception": false,
     "start_time": "2023-11-17T11:43:19.310574",
     "status": "completed"
    },
    "tags": []
   },
   "outputs": [],
   "source": [
    "# Matrix Factorization modules and functions\n",
    "\n",
    "def sigmoid_range(x, low, high):\n",
    "    \"\"\"Sigmoid function with range (low, high)\"\"\"\n",
    "    return torch.sigmoid(x) * (high - low) + low\n",
    "\n",
    "\n",
    "class MatrixFactorization(nn.Module):\n",
    "    \"\"\"Matrix Factorization module class\"\"\"\n",
    "    def __init__(self, n_users, n_movies, n_factors, n_genre):\n",
    "        super(MatrixFactorization, self).__init__()\n",
    "\n",
    "        self.user_factors = nn.Embedding(n_users, n_factors)\n",
    "        self.movie_factors = nn.Embedding(n_movies, n_factors)\n",
    "        self.genre_factors = nn.Linear(n_genre, n_factors)  # as Linear\n",
    "\n",
    "        self.user_bias = nn.Parameter(torch.zeros(n_users).normal_(0, 0.01))\n",
    "        self.movie_bias = nn.Parameter(torch.zeros(n_movies).normal_(0, 0.01))\n",
    "\n",
    "        self.offset = nn.Parameter(torch.zeros(1).normal_(0, 0.01))\n",
    "\n",
    "        self.user_factors.weight.data.uniform_(0.0, 0.05)\n",
    "        self.movie_factors.weight.data.uniform_(0.0, 0.05)\n",
    "        self.genre_factors.weight.data.uniform_(0.0, 0.05)\n",
    "\n",
    "    def forward(self, user, item, genre_vector):\n",
    "        user_emb = self.user_factors(user)\n",
    "        item_emb = self.movie_factors(item)\n",
    "\n",
    "        genre_emb = self.genre_factors(genre_vector)\n",
    "\n",
    "        item_emb += genre_emb\n",
    "\n",
    "        element_product = (user_emb * item_emb).sum(1)\n",
    "\n",
    "        user_b = self.user_bias[user]\n",
    "        item_b = self.movie_bias[item]\n",
    "\n",
    "        element_product += user_b + item_b + self.offset\n",
    "\n",
    "        return sigmoid_range(element_product, 0, 5.5)"
   ]
  },
  {
   "cell_type": "markdown",
   "id": "b9b24040",
   "metadata": {
    "id": "bbf60085",
    "papermill": {
     "duration": 0.006388,
     "end_time": "2023-11-17T11:43:19.343576",
     "exception": false,
     "start_time": "2023-11-17T11:43:19.337188",
     "status": "completed"
    },
    "tags": []
   },
   "source": [
    "## Section 1: Data Loading and Preprocessing 📈\n",
    "\n",
    "In this section we load MovieLens, preprocess and merge the data."
   ]
  },
  {
   "cell_type": "markdown",
   "id": "61976d1e",
   "metadata": {
    "papermill": {
     "duration": 0.00649,
     "end_time": "2023-11-17T11:43:19.356499",
     "exception": false,
     "start_time": "2023-11-17T11:43:19.350009",
     "status": "completed"
    },
    "tags": []
   },
   "source": [
    "### Basic Data Loading and Processing\n",
    "\n",
    "Here we load the raw MovieLens data."
   ]
  },
  {
   "cell_type": "code",
   "execution_count": 4,
   "id": "50cf5c75",
   "metadata": {
    "execution": {
     "iopub.execute_input": "2023-11-17T11:43:19.371382Z",
     "iopub.status.busy": "2023-11-17T11:43:19.370444Z",
     "iopub.status.idle": "2023-11-17T11:43:19.374785Z",
     "shell.execute_reply": "2023-11-17T11:43:19.374218Z"
    },
    "id": "1f49a1f3",
    "papermill": {
     "duration": 0.013386,
     "end_time": "2023-11-17T11:43:19.376428",
     "exception": false,
     "start_time": "2023-11-17T11:43:19.363042",
     "status": "completed"
    },
    "tags": []
   },
   "outputs": [],
   "source": [
    "# Get all the data paths\n",
    "current_directory = os.getcwd()\n",
    "general_path = \"/kaggle/input/dis-project-2-recommender-systems\"\n",
    "\n",
    "movies_path = os.path.join(general_path, \"movies.csv\")\n",
    "links_path = os.path.join(general_path, \"links.csv\")\n",
    "tags_path = os.path.join(general_path, \"tags.csv\")"
   ]
  },
  {
   "cell_type": "code",
   "execution_count": 5,
   "id": "ad4a7061",
   "metadata": {
    "execution": {
     "iopub.execute_input": "2023-11-17T11:43:19.391702Z",
     "iopub.status.busy": "2023-11-17T11:43:19.391350Z",
     "iopub.status.idle": "2023-11-17T11:43:19.396657Z",
     "shell.execute_reply": "2023-11-17T11:43:19.395228Z"
    },
    "id": "32d23e6f",
    "papermill": {
     "duration": 0.01554,
     "end_time": "2023-11-17T11:43:19.398925",
     "exception": false,
     "start_time": "2023-11-17T11:43:19.383385",
     "status": "completed"
    },
    "tags": []
   },
   "outputs": [],
   "source": [
    "# Training and test ratings sets\n",
    "training_path = os.path.join(general_path, \"train_ratings.csv\")\n",
    "test_path = os.path.join(general_path, \"test_set_no_ratings.csv\")"
   ]
  },
  {
   "cell_type": "code",
   "execution_count": 6,
   "id": "8196a3b4",
   "metadata": {
    "execution": {
     "iopub.execute_input": "2023-11-17T11:43:19.414042Z",
     "iopub.status.busy": "2023-11-17T11:43:19.413609Z",
     "iopub.status.idle": "2023-11-17T11:43:19.491496Z",
     "shell.execute_reply": "2023-11-17T11:43:19.490555Z"
    },
    "id": "e09b33a1",
    "outputId": "90a7dc13-bfde-459e-f11b-1ce9718eb0df",
    "papermill": {
     "duration": 0.087947,
     "end_time": "2023-11-17T11:43:19.493657",
     "exception": false,
     "start_time": "2023-11-17T11:43:19.405710",
     "status": "completed"
    },
    "tags": []
   },
   "outputs": [
    {
     "data": {
      "text/html": [
       "<div>\n",
       "<style scoped>\n",
       "    .dataframe tbody tr th:only-of-type {\n",
       "        vertical-align: middle;\n",
       "    }\n",
       "\n",
       "    .dataframe tbody tr th {\n",
       "        vertical-align: top;\n",
       "    }\n",
       "\n",
       "    .dataframe thead th {\n",
       "        text-align: right;\n",
       "    }\n",
       "</style>\n",
       "<table border=\"1\" class=\"dataframe\">\n",
       "  <thead>\n",
       "    <tr style=\"text-align: right;\">\n",
       "      <th></th>\n",
       "      <th>movieId</th>\n",
       "      <th>title</th>\n",
       "      <th>genres</th>\n",
       "      <th>imdbId</th>\n",
       "      <th>tmdbId</th>\n",
       "    </tr>\n",
       "  </thead>\n",
       "  <tbody>\n",
       "    <tr>\n",
       "      <th>0</th>\n",
       "      <td>1</td>\n",
       "      <td>Toy Story (1995)</td>\n",
       "      <td>Adventure|Animation|Children|Comedy|Fantasy</td>\n",
       "      <td>114709</td>\n",
       "      <td>862.0</td>\n",
       "    </tr>\n",
       "    <tr>\n",
       "      <th>1</th>\n",
       "      <td>2</td>\n",
       "      <td>Jumanji (1995)</td>\n",
       "      <td>Adventure|Children|Fantasy</td>\n",
       "      <td>113497</td>\n",
       "      <td>8844.0</td>\n",
       "    </tr>\n",
       "    <tr>\n",
       "      <th>2</th>\n",
       "      <td>3</td>\n",
       "      <td>Grumpier Old Men (1995)</td>\n",
       "      <td>Comedy|Romance</td>\n",
       "      <td>113228</td>\n",
       "      <td>15602.0</td>\n",
       "    </tr>\n",
       "    <tr>\n",
       "      <th>3</th>\n",
       "      <td>4</td>\n",
       "      <td>Waiting to Exhale (1995)</td>\n",
       "      <td>Comedy|Drama|Romance</td>\n",
       "      <td>114885</td>\n",
       "      <td>31357.0</td>\n",
       "    </tr>\n",
       "    <tr>\n",
       "      <th>4</th>\n",
       "      <td>5</td>\n",
       "      <td>Father of the Bride Part II (1995)</td>\n",
       "      <td>Comedy</td>\n",
       "      <td>113041</td>\n",
       "      <td>11862.0</td>\n",
       "    </tr>\n",
       "  </tbody>\n",
       "</table>\n",
       "</div>"
      ],
      "text/plain": [
       "   movieId                               title  \\\n",
       "0        1                    Toy Story (1995)   \n",
       "1        2                      Jumanji (1995)   \n",
       "2        3             Grumpier Old Men (1995)   \n",
       "3        4            Waiting to Exhale (1995)   \n",
       "4        5  Father of the Bride Part II (1995)   \n",
       "\n",
       "                                        genres  imdbId   tmdbId  \n",
       "0  Adventure|Animation|Children|Comedy|Fantasy  114709    862.0  \n",
       "1                   Adventure|Children|Fantasy  113497   8844.0  \n",
       "2                               Comedy|Romance  113228  15602.0  \n",
       "3                         Comedy|Drama|Romance  114885  31357.0  \n",
       "4                                       Comedy  113041  11862.0  "
      ]
     },
     "execution_count": 6,
     "metadata": {},
     "output_type": "execute_result"
    }
   ],
   "source": [
    "# Load the movie and link data into dataframes\n",
    "movies = pd.read_csv(movies_path)\n",
    "links = pd.read_csv(links_path)\n",
    "\n",
    "movies = pd.concat([movies, links], axis=1)  # concatenate the two infromation dataframes for the movies\n",
    "movies = movies.loc[:, ~movies.columns.duplicated()]  # remove the duplicate columns\n",
    "\n",
    "movies.head()"
   ]
  },
  {
   "cell_type": "code",
   "execution_count": 7,
   "id": "10fb0367",
   "metadata": {
    "execution": {
     "iopub.execute_input": "2023-11-17T11:43:19.508726Z",
     "iopub.status.busy": "2023-11-17T11:43:19.508351Z",
     "iopub.status.idle": "2023-11-17T11:43:19.638720Z",
     "shell.execute_reply": "2023-11-17T11:43:19.637335Z"
    },
    "id": "09dc6b43",
    "outputId": "f6cd3802-88c6-48f5-bdce-df3f36a94563",
    "papermill": {
     "duration": 0.140868,
     "end_time": "2023-11-17T11:43:19.641377",
     "exception": false,
     "start_time": "2023-11-17T11:43:19.500509",
     "status": "completed"
    },
    "tags": []
   },
   "outputs": [
    {
     "data": {
      "text/html": [
       "<div>\n",
       "<style scoped>\n",
       "    .dataframe tbody tr th:only-of-type {\n",
       "        vertical-align: middle;\n",
       "    }\n",
       "\n",
       "    .dataframe tbody tr th {\n",
       "        vertical-align: top;\n",
       "    }\n",
       "\n",
       "    .dataframe thead th {\n",
       "        text-align: right;\n",
       "    }\n",
       "</style>\n",
       "<table border=\"1\" class=\"dataframe\">\n",
       "  <thead>\n",
       "    <tr style=\"text-align: right;\">\n",
       "      <th></th>\n",
       "      <th>user_tag_id</th>\n",
       "      <th>movieId</th>\n",
       "      <th>tag</th>\n",
       "    </tr>\n",
       "  </thead>\n",
       "  <tbody>\n",
       "    <tr>\n",
       "      <th>0</th>\n",
       "      <td>2</td>\n",
       "      <td>60756</td>\n",
       "      <td>[funny, Highly quotable, will ferrell]</td>\n",
       "    </tr>\n",
       "    <tr>\n",
       "      <th>1</th>\n",
       "      <td>2</td>\n",
       "      <td>89774</td>\n",
       "      <td>[Boxing story, MMA, Tom Hardy]</td>\n",
       "    </tr>\n",
       "    <tr>\n",
       "      <th>2</th>\n",
       "      <td>2</td>\n",
       "      <td>106782</td>\n",
       "      <td>[drugs, Leonardo DiCaprio, Martin Scorsese]</td>\n",
       "    </tr>\n",
       "    <tr>\n",
       "      <th>3</th>\n",
       "      <td>7</td>\n",
       "      <td>48516</td>\n",
       "      <td>[way too long]</td>\n",
       "    </tr>\n",
       "    <tr>\n",
       "      <th>4</th>\n",
       "      <td>18</td>\n",
       "      <td>431</td>\n",
       "      <td>[Al Pacino, gangster, mafia]</td>\n",
       "    </tr>\n",
       "  </tbody>\n",
       "</table>\n",
       "</div>"
      ],
      "text/plain": [
       "   user_tag_id  movieId                                          tag\n",
       "0            2    60756       [funny, Highly quotable, will ferrell]\n",
       "1            2    89774               [Boxing story, MMA, Tom Hardy]\n",
       "2            2   106782  [drugs, Leonardo DiCaprio, Martin Scorsese]\n",
       "3            7    48516                               [way too long]\n",
       "4           18      431                 [Al Pacino, gangster, mafia]"
      ]
     },
     "execution_count": 7,
     "metadata": {},
     "output_type": "execute_result"
    }
   ],
   "source": [
    "# Load and process the tag data\n",
    "tags = pd.read_csv(tags_path)\n",
    "tags.rename(columns={\"userId\": \"user_tag_id\"}, inplace=True)\n",
    "\n",
    "grouped_tags = tags.groupby([\"user_tag_id\", \"movieId\"]).agg(list).reset_index()\n",
    "grouped_tags.drop(columns=\"timestamp\", inplace=True)\n",
    "grouped_tags.head()"
   ]
  },
  {
   "cell_type": "code",
   "execution_count": 8,
   "id": "8043c13f",
   "metadata": {
    "execution": {
     "iopub.execute_input": "2023-11-17T11:43:19.658104Z",
     "iopub.status.busy": "2023-11-17T11:43:19.657683Z",
     "iopub.status.idle": "2023-11-17T11:43:19.813440Z",
     "shell.execute_reply": "2023-11-17T11:43:19.812298Z"
    },
    "id": "80c3dada",
    "papermill": {
     "duration": 0.166001,
     "end_time": "2023-11-17T11:43:19.815503",
     "exception": false,
     "start_time": "2023-11-17T11:43:19.649502",
     "status": "completed"
    },
    "tags": []
   },
   "outputs": [
    {
     "data": {
      "text/html": [
       "<div>\n",
       "<style scoped>\n",
       "    .dataframe tbody tr th:only-of-type {\n",
       "        vertical-align: middle;\n",
       "    }\n",
       "\n",
       "    .dataframe tbody tr th {\n",
       "        vertical-align: top;\n",
       "    }\n",
       "\n",
       "    .dataframe thead th {\n",
       "        text-align: right;\n",
       "    }\n",
       "</style>\n",
       "<table border=\"1\" class=\"dataframe\">\n",
       "  <thead>\n",
       "    <tr style=\"text-align: right;\">\n",
       "      <th></th>\n",
       "      <th>userId</th>\n",
       "      <th>movieId</th>\n",
       "      <th>rating</th>\n",
       "      <th>title</th>\n",
       "      <th>imdbId</th>\n",
       "      <th>tmdbId</th>\n",
       "      <th>tag</th>\n",
       "      <th>rating_count_per_user</th>\n",
       "    </tr>\n",
       "  </thead>\n",
       "  <tbody>\n",
       "    <tr>\n",
       "      <th>0</th>\n",
       "      <td>509</td>\n",
       "      <td>7347</td>\n",
       "      <td>3.0</td>\n",
       "      <td>Secret Window (2004)</td>\n",
       "      <td>363988</td>\n",
       "      <td>1586.0</td>\n",
       "      <td>NaN</td>\n",
       "      <td>467</td>\n",
       "    </tr>\n",
       "    <tr>\n",
       "      <th>1</th>\n",
       "      <td>326</td>\n",
       "      <td>71462</td>\n",
       "      <td>4.0</td>\n",
       "      <td>Cove, The (2009)</td>\n",
       "      <td>1313104</td>\n",
       "      <td>23128.0</td>\n",
       "      <td>NaN</td>\n",
       "      <td>152</td>\n",
       "    </tr>\n",
       "    <tr>\n",
       "      <th>2</th>\n",
       "      <td>57</td>\n",
       "      <td>2115</td>\n",
       "      <td>3.0</td>\n",
       "      <td>Indiana Jones and the Temple of Doom (1984)</td>\n",
       "      <td>87469</td>\n",
       "      <td>87.0</td>\n",
       "      <td>NaN</td>\n",
       "      <td>476</td>\n",
       "    </tr>\n",
       "    <tr>\n",
       "      <th>3</th>\n",
       "      <td>610</td>\n",
       "      <td>1127</td>\n",
       "      <td>4.0</td>\n",
       "      <td>Abyss, The (1989)</td>\n",
       "      <td>96754</td>\n",
       "      <td>2756.0</td>\n",
       "      <td>NaN</td>\n",
       "      <td>1302</td>\n",
       "    </tr>\n",
       "    <tr>\n",
       "      <th>4</th>\n",
       "      <td>462</td>\n",
       "      <td>2409</td>\n",
       "      <td>2.0</td>\n",
       "      <td>Rocky II (1979)</td>\n",
       "      <td>79817</td>\n",
       "      <td>1367.0</td>\n",
       "      <td>NaN</td>\n",
       "      <td>455</td>\n",
       "    </tr>\n",
       "  </tbody>\n",
       "</table>\n",
       "</div>"
      ],
      "text/plain": [
       "   userId  movieId  rating                                        title  \\\n",
       "0     509     7347     3.0                         Secret Window (2004)   \n",
       "1     326    71462     4.0                             Cove, The (2009)   \n",
       "2      57     2115     3.0  Indiana Jones and the Temple of Doom (1984)   \n",
       "3     610     1127     4.0                            Abyss, The (1989)   \n",
       "4     462     2409     2.0                              Rocky II (1979)   \n",
       "\n",
       "    imdbId   tmdbId  tag  rating_count_per_user  \n",
       "0   363988   1586.0  NaN                    467  \n",
       "1  1313104  23128.0  NaN                    152  \n",
       "2    87469     87.0  NaN                    476  \n",
       "3    96754   2756.0  NaN                   1302  \n",
       "4    79817   1367.0  NaN                    455  "
      ]
     },
     "execution_count": 8,
     "metadata": {},
     "output_type": "execute_result"
    }
   ],
   "source": [
    "# Prepare the training dataset\n",
    "train = pd.read_csv(training_path)\n",
    "train.drop(columns=\"timestamp\", inplace=True)\n",
    "test = pd.read_csv(test_path)\n",
    "\n",
    "test.drop(columns=\"Id\", inplace=True)\n",
    "test[\"rating\"] = -1\n",
    "\n",
    "frames = [train, test]\n",
    "ratings = pd.concat(frames)\n",
    "\n",
    "merged_train = ratings.merge(movies, on=\"movieId\", how=\"left\")\n",
    "\n",
    "# Prepare the testing dataset\n",
    "test = pd.read_csv(test_path)\n",
    "\n",
    "# Add the corresponding tags for each user-movieid combination\n",
    "merged_full = pd.merge(\n",
    "    merged_train,\n",
    "    grouped_tags,\n",
    "    how=\"left\",\n",
    "    left_on=[\"userId\", \"movieId\"],\n",
    "    right_on=[\"user_tag_id\", \"movieId\"],\n",
    ")\n",
    "\n",
    "# Minor modifications to the merged dataframe\n",
    "merged_full.drop(columns=\"user_tag_id\", inplace=True)\n",
    "merged_full[\"rating_count_per_user\"] = merged_full.groupby(\"userId\")[\"rating\"].transform(\"count\")\n",
    "merged_full.drop(columns=[\"genres\"], inplace=True)\n",
    "\n",
    "merged_full.head()"
   ]
  },
  {
   "cell_type": "markdown",
   "id": "5bea0bab",
   "metadata": {
    "id": "CnCY3opiBWGu",
    "papermill": {
     "duration": 0.007109,
     "end_time": "2023-11-17T11:43:19.830227",
     "exception": false,
     "start_time": "2023-11-17T11:43:19.823118",
     "status": "completed"
    },
    "tags": []
   },
   "source": [
    "### Genre Incorporation\n",
    "\n",
    "Now, we include the available genres per movie to our data."
   ]
  },
  {
   "cell_type": "code",
   "execution_count": 9,
   "id": "e304a58a",
   "metadata": {
    "execution": {
     "iopub.execute_input": "2023-11-17T11:43:19.846271Z",
     "iopub.status.busy": "2023-11-17T11:43:19.845859Z",
     "iopub.status.idle": "2023-11-17T11:43:19.996142Z",
     "shell.execute_reply": "2023-11-17T11:43:19.994999Z"
    },
    "id": "hZ8reYbIfFuJ",
    "outputId": "bfe63f71-d46b-4a7c-c3b1-9d8b8a4f562a",
    "papermill": {
     "duration": 0.161255,
     "end_time": "2023-11-17T11:43:19.998643",
     "exception": false,
     "start_time": "2023-11-17T11:43:19.837388",
     "status": "completed"
    },
    "tags": []
   },
   "outputs": [
    {
     "name": "stdout",
     "output_type": "stream",
     "text": [
      "Number of unique user IDs: 610\n",
      "Number of unique movie IDs: 9724\n"
     ]
    },
    {
     "data": {
      "text/plain": [
       "count    100836.000000\n",
       "mean        603.892816\n",
       "std         653.007108\n",
       "min          20.000000\n",
       "25%         148.000000\n",
       "50%         385.000000\n",
       "75%         836.000000\n",
       "max        2698.000000\n",
       "Name: rating_count_per_user, dtype: float64"
      ]
     },
     "execution_count": 9,
     "metadata": {},
     "output_type": "execute_result"
    }
   ],
   "source": [
    "# Load the full_movielens_genres\n",
    "full_movies_path = \"/kaggle/input/movielens-custom/full_movielens_genres.csv\"\n",
    "full_movies = pd.read_csv(full_movies_path)\n",
    "full_movies = full_movies.groupby(\"imdbId\")[\"genres\"].first().reset_index()\n",
    "\n",
    "merged_full = pd.merge(merged_full, full_movies, on=\"imdbId\", how=\"left\")\n",
    "\n",
    "print(f\"Number of unique user IDs: {merged_full['userId'].unique().size}\")\n",
    "print(f\"Number of unique movie IDs: {merged_full['movieId'].unique().size}\")\n",
    "\n",
    "merged_full[\"rating_count_per_user\"].describe()"
   ]
  },
  {
   "cell_type": "markdown",
   "id": "ee0ecc25",
   "metadata": {
    "papermill": {
     "duration": 0.00678,
     "end_time": "2023-11-17T11:43:20.012794",
     "exception": false,
     "start_time": "2023-11-17T11:43:20.006014",
     "status": "completed"
    },
    "tags": []
   },
   "source": [
    "### Calculate the average rating per user"
   ]
  },
  {
   "cell_type": "code",
   "execution_count": 10,
   "id": "27b5f6ee",
   "metadata": {
    "execution": {
     "iopub.execute_input": "2023-11-17T11:43:20.028723Z",
     "iopub.status.busy": "2023-11-17T11:43:20.028405Z",
     "iopub.status.idle": "2023-11-17T11:43:20.035376Z",
     "shell.execute_reply": "2023-11-17T11:43:20.033893Z"
    },
    "id": "1cf7a1b9",
    "outputId": "c598d0a2-a091-49f9-acde-c5bb3fc73bb2",
    "papermill": {
     "duration": 0.01793,
     "end_time": "2023-11-17T11:43:20.037734",
     "exception": false,
     "start_time": "2023-11-17T11:43:20.019804",
     "status": "completed"
    },
    "tags": []
   },
   "outputs": [
    {
     "name": "stdout",
     "output_type": "stream",
     "text": [
      "Average number of ratings per user: 603.89\n"
     ]
    }
   ],
   "source": [
    "average_ratings_per_user = merged_full[\"rating_count_per_user\"].mean()\n",
    "print(f\"Average number of ratings per user: {average_ratings_per_user:.2f}\")"
   ]
  },
  {
   "cell_type": "markdown",
   "id": "9ed3b3e4",
   "metadata": {
    "id": "c64fc95e",
    "papermill": {
     "duration": 0.007658,
     "end_time": "2023-11-17T11:43:20.053106",
     "exception": false,
     "start_time": "2023-11-17T11:43:20.045448",
     "status": "completed"
    },
    "tags": []
   },
   "source": [
    "## Section 2: Implementing Matrix Factorization 🪛\n",
    "\n",
    "In this section we prepare the data for Matrix Factorization, and then we implement and train the Matrix Factorization model.\n"
   ]
  },
  {
   "cell_type": "markdown",
   "id": "fe8879c7",
   "metadata": {
    "papermill": {
     "duration": 0.007212,
     "end_time": "2023-11-17T11:43:20.067943",
     "exception": false,
     "start_time": "2023-11-17T11:43:20.060731",
     "status": "completed"
    },
    "tags": []
   },
   "source": [
    "### Prepare the data for the model"
   ]
  },
  {
   "cell_type": "code",
   "execution_count": 11,
   "id": "d5c4b34f",
   "metadata": {
    "execution": {
     "iopub.execute_input": "2023-11-17T11:43:20.085699Z",
     "iopub.status.busy": "2023-11-17T11:43:20.084537Z",
     "iopub.status.idle": "2023-11-17T11:43:20.118560Z",
     "shell.execute_reply": "2023-11-17T11:43:20.117629Z"
    },
    "id": "40d376bb",
    "outputId": "d1f02c70-d05d-4821-d6ce-2e49d766d8d2",
    "papermill": {
     "duration": 0.044899,
     "end_time": "2023-11-17T11:43:20.120411",
     "exception": false,
     "start_time": "2023-11-17T11:43:20.075512",
     "status": "completed"
    },
    "tags": []
   },
   "outputs": [
    {
     "data": {
      "text/html": [
       "<div>\n",
       "<style scoped>\n",
       "    .dataframe tbody tr th:only-of-type {\n",
       "        vertical-align: middle;\n",
       "    }\n",
       "\n",
       "    .dataframe tbody tr th {\n",
       "        vertical-align: top;\n",
       "    }\n",
       "\n",
       "    .dataframe thead th {\n",
       "        text-align: right;\n",
       "    }\n",
       "</style>\n",
       "<table border=\"1\" class=\"dataframe\">\n",
       "  <thead>\n",
       "    <tr style=\"text-align: right;\">\n",
       "      <th></th>\n",
       "      <th>userId</th>\n",
       "      <th>movieId</th>\n",
       "      <th>rating</th>\n",
       "      <th>genres</th>\n",
       "    </tr>\n",
       "  </thead>\n",
       "  <tbody>\n",
       "    <tr>\n",
       "      <th>0</th>\n",
       "      <td>509</td>\n",
       "      <td>7347</td>\n",
       "      <td>3.0</td>\n",
       "      <td>Mystery|Thriller</td>\n",
       "    </tr>\n",
       "    <tr>\n",
       "      <th>1</th>\n",
       "      <td>326</td>\n",
       "      <td>71462</td>\n",
       "      <td>4.0</td>\n",
       "      <td>Documentary</td>\n",
       "    </tr>\n",
       "    <tr>\n",
       "      <th>2</th>\n",
       "      <td>57</td>\n",
       "      <td>2115</td>\n",
       "      <td>3.0</td>\n",
       "      <td>Action|Adventure|Fantasy</td>\n",
       "    </tr>\n",
       "    <tr>\n",
       "      <th>3</th>\n",
       "      <td>610</td>\n",
       "      <td>1127</td>\n",
       "      <td>4.0</td>\n",
       "      <td>Action|Adventure|Sci-Fi|Thriller</td>\n",
       "    </tr>\n",
       "    <tr>\n",
       "      <th>4</th>\n",
       "      <td>462</td>\n",
       "      <td>2409</td>\n",
       "      <td>2.0</td>\n",
       "      <td>Action|Drama</td>\n",
       "    </tr>\n",
       "  </tbody>\n",
       "</table>\n",
       "</div>"
      ],
      "text/plain": [
       "   userId  movieId  rating                            genres\n",
       "0     509     7347     3.0                  Mystery|Thriller\n",
       "1     326    71462     4.0                       Documentary\n",
       "2      57     2115     3.0          Action|Adventure|Fantasy\n",
       "3     610     1127     4.0  Action|Adventure|Sci-Fi|Thriller\n",
       "4     462     2409     2.0                      Action|Drama"
      ]
     },
     "execution_count": 11,
     "metadata": {},
     "output_type": "execute_result"
    }
   ],
   "source": [
    "# Data preparation for Matrix Factorization\n",
    "test.drop(columns=\"Id\", inplace=True)\n",
    "test[\"rating\"] = -1\n",
    "\n",
    "frames = [train, test]\n",
    "ratings = pd.concat(frames)  # concatenate train and test in order to create the matrix later\n",
    "ratings = ratings.merge(movies, on=\"movieId\", how=\"left\")  # merge with movies\n",
    "ratings.drop(columns=[\"title\", \"imdbId\", \"tmdbId\"], inplace=True)\n",
    "\n",
    "ratings.head()"
   ]
  },
  {
   "cell_type": "code",
   "execution_count": 12,
   "id": "6218a195",
   "metadata": {
    "execution": {
     "iopub.execute_input": "2023-11-17T11:43:20.136998Z",
     "iopub.status.busy": "2023-11-17T11:43:20.136579Z",
     "iopub.status.idle": "2023-11-17T11:43:20.236267Z",
     "shell.execute_reply": "2023-11-17T11:43:20.234927Z"
    },
    "id": "DvID5_marLqc",
    "papermill": {
     "duration": 0.110753,
     "end_time": "2023-11-17T11:43:20.238707",
     "exception": false,
     "start_time": "2023-11-17T11:43:20.127954",
     "status": "completed"
    },
    "tags": []
   },
   "outputs": [],
   "source": [
    "no_genres_rows = ratings[ratings[\"genres\"] == \"(no genres listed)\"]\n",
    "\n",
    "# Iterate through rows and update 'genres' based on 'merged_full'\n",
    "for index, row in no_genres_rows.iterrows():\n",
    "    movie_id = row[\"movieId\"]\n",
    "    corresponding_genre = merged_full.loc[merged_full[\"movieId\"] == movie_id, \"genres\"].values\n",
    "    \n",
    "    new_genre = (\n",
    "        corresponding_genre[0]\n",
    "        if len(corresponding_genre) > 0 and not pd.isna(corresponding_genre[0])\n",
    "        else \"Action\"\n",
    "    )\n",
    "    \n",
    "    ratings.at[index, \"genres\"] = new_genre\n",
    "    \n",
    "ratings[\"genres\"] = ratings[\"genres\"].str.lower()\n",
    "\n",
    "d = defaultdict(LabelEncoder)\n",
    "\n",
    "cols_cat = [\"userId\", \"movieId\"]\n",
    "for c in cols_cat:\n",
    "    d[c].fit(ratings[c].unique())\n",
    "    ratings[c] = d[c].transform(ratings[c])\n",
    "\n",
    "grouped_rating = ratings.groupby(\"movieId\")[\"genres\"].first().reset_index()\n",
    "n_genres = set(\"|\".join(grouped_rating[\"genres\"]).split(\"|\"))"
   ]
  },
  {
   "cell_type": "markdown",
   "id": "42084a7c",
   "metadata": {
    "id": "aOzWs-9aColw",
    "papermill": {
     "duration": 0.00743,
     "end_time": "2023-11-17T11:43:20.254542",
     "exception": false,
     "start_time": "2023-11-17T11:43:20.247112",
     "status": "completed"
    },
    "tags": []
   },
   "source": [
    "### Create the one-hot representation of the genres to use them in Matrix Factorization"
   ]
  },
  {
   "cell_type": "code",
   "execution_count": 13,
   "id": "8f84f76f",
   "metadata": {
    "execution": {
     "iopub.execute_input": "2023-11-17T11:43:20.271686Z",
     "iopub.status.busy": "2023-11-17T11:43:20.271274Z",
     "iopub.status.idle": "2023-11-17T11:43:21.251045Z",
     "shell.execute_reply": "2023-11-17T11:43:21.250020Z"
    },
    "id": "Nb2L6bJP7X8z",
    "papermill": {
     "duration": 0.990959,
     "end_time": "2023-11-17T11:43:21.253347",
     "exception": false,
     "start_time": "2023-11-17T11:43:20.262388",
     "status": "completed"
    },
    "tags": []
   },
   "outputs": [
    {
     "data": {
      "text/html": [
       "<div>\n",
       "<style scoped>\n",
       "    .dataframe tbody tr th:only-of-type {\n",
       "        vertical-align: middle;\n",
       "    }\n",
       "\n",
       "    .dataframe tbody tr th {\n",
       "        vertical-align: top;\n",
       "    }\n",
       "\n",
       "    .dataframe thead th {\n",
       "        text-align: right;\n",
       "    }\n",
       "</style>\n",
       "<table border=\"1\" class=\"dataframe\">\n",
       "  <thead>\n",
       "    <tr style=\"text-align: right;\">\n",
       "      <th></th>\n",
       "      <th>userId</th>\n",
       "      <th>movieId</th>\n",
       "      <th>rating</th>\n",
       "      <th>genres</th>\n",
       "    </tr>\n",
       "  </thead>\n",
       "  <tbody>\n",
       "    <tr>\n",
       "      <th>0</th>\n",
       "      <td>508</td>\n",
       "      <td>4893</td>\n",
       "      <td>3.0</td>\n",
       "      <td>mystery|thriller</td>\n",
       "    </tr>\n",
       "    <tr>\n",
       "      <th>1</th>\n",
       "      <td>325</td>\n",
       "      <td>7127</td>\n",
       "      <td>4.0</td>\n",
       "      <td>documentary</td>\n",
       "    </tr>\n",
       "    <tr>\n",
       "      <th>2</th>\n",
       "      <td>56</td>\n",
       "      <td>1575</td>\n",
       "      <td>3.0</td>\n",
       "      <td>action|adventure|fantasy</td>\n",
       "    </tr>\n",
       "    <tr>\n",
       "      <th>3</th>\n",
       "      <td>609</td>\n",
       "      <td>855</td>\n",
       "      <td>4.0</td>\n",
       "      <td>action|adventure|sci-fi|thriller</td>\n",
       "    </tr>\n",
       "    <tr>\n",
       "      <th>4</th>\n",
       "      <td>461</td>\n",
       "      <td>1808</td>\n",
       "      <td>2.0</td>\n",
       "      <td>action|drama</td>\n",
       "    </tr>\n",
       "  </tbody>\n",
       "</table>\n",
       "</div>"
      ],
      "text/plain": [
       "   userId  movieId  rating                            genres\n",
       "0     508     4893     3.0                  mystery|thriller\n",
       "1     325     7127     4.0                       documentary\n",
       "2      56     1575     3.0          action|adventure|fantasy\n",
       "3     609      855     4.0  action|adventure|sci-fi|thriller\n",
       "4     461     1808     2.0                      action|drama"
      ]
     },
     "execution_count": 13,
     "metadata": {},
     "output_type": "execute_result"
    }
   ],
   "source": [
    "# Create a dictionary mapping movie IDs to genre vectors using one-hot encoding\n",
    "movie_to_genre_vector = {}\n",
    "\n",
    "# Convert genres column to a list of lists\n",
    "genres_list = [genres.split(\"|\") for genres in grouped_rating[\"genres\"]]\n",
    "\n",
    "# Use MultiLabelBinarizer for one-hot encoding\n",
    "mlb = MultiLabelBinarizer()\n",
    "genre_vectors = mlb.fit_transform(genres_list)\n",
    "\n",
    "for idx, row in grouped_rating.iterrows():\n",
    "    movie_id = row[\"movieId\"]\n",
    "    genre_vector = torch.FloatTensor(genre_vectors[idx])\n",
    "\n",
    "    movie_to_genre_vector[movie_id] = genre_vector\n",
    "\n",
    "train_ratings = ratings[ratings.rating != -1]\n",
    "test_ratings = ratings[ratings.rating == -1].copy()\n",
    "\n",
    "train_ratings.reset_index(drop=True, inplace=True)\n",
    "test_ratings.reset_index(drop=True, inplace=True)\n",
    "\n",
    "df_train = train_ratings\n",
    "df_train.head()"
   ]
  },
  {
   "cell_type": "markdown",
   "id": "bc0fff33",
   "metadata": {
    "id": "19066113",
    "papermill": {
     "duration": 0.007231,
     "end_time": "2023-11-17T11:43:21.268435",
     "exception": false,
     "start_time": "2023-11-17T11:43:21.261204",
     "status": "completed"
    },
    "tags": []
   },
   "source": [
    "### Initialize the MovieDataset and the Dataloaders"
   ]
  },
  {
   "cell_type": "code",
   "execution_count": 14,
   "id": "6cb1b619",
   "metadata": {
    "execution": {
     "iopub.execute_input": "2023-11-17T11:43:21.285538Z",
     "iopub.status.busy": "2023-11-17T11:43:21.285114Z",
     "iopub.status.idle": "2023-11-17T11:43:21.309618Z",
     "shell.execute_reply": "2023-11-17T11:43:21.308621Z"
    },
    "id": "398db978",
    "papermill": {
     "duration": 0.035322,
     "end_time": "2023-11-17T11:43:21.311352",
     "exception": false,
     "start_time": "2023-11-17T11:43:21.276030",
     "status": "completed"
    },
    "tags": []
   },
   "outputs": [],
   "source": [
    "# Create the DataLoader\n",
    "batch_size = 32\n",
    "\n",
    "train_dataset = MovieRatingDataset(df_train, movie_to_genre_vector)\n",
    "train_dataloader = DataLoader(train_dataset, batch_size=batch_size, shuffle=True)\n",
    "\n",
    "test_dataset = MovieRatingDataset(test_ratings, movie_to_genre_vector)\n",
    "test_dataloader = DataLoader(test_dataset, batch_size=1, shuffle=False)"
   ]
  },
  {
   "cell_type": "markdown",
   "id": "4a154443",
   "metadata": {
    "id": "57a4ee11",
    "papermill": {
     "duration": 0.007697,
     "end_time": "2023-11-17T11:43:21.327837",
     "exception": false,
     "start_time": "2023-11-17T11:43:21.320140",
     "status": "completed"
    },
    "tags": []
   },
   "source": [
    "### Training Loop: Train the Matrix Factorization model"
   ]
  },
  {
   "cell_type": "code",
   "execution_count": 15,
   "id": "1fd313f3",
   "metadata": {
    "execution": {
     "iopub.execute_input": "2023-11-17T11:43:21.346297Z",
     "iopub.status.busy": "2023-11-17T11:43:21.344915Z",
     "iopub.status.idle": "2023-11-17T11:43:21.392358Z",
     "shell.execute_reply": "2023-11-17T11:43:21.390700Z"
    },
    "id": "df59c9b1",
    "outputId": "f0243538-05d6-448d-fc76-88687c2f1f78",
    "papermill": {
     "duration": 0.059175,
     "end_time": "2023-11-17T11:43:21.394887",
     "exception": false,
     "start_time": "2023-11-17T11:43:21.335712",
     "status": "completed"
    },
    "tags": []
   },
   "outputs": [
    {
     "data": {
      "text/plain": [
       "MatrixFactorization(\n",
       "  (user_factors): Embedding(610, 15)\n",
       "  (movie_factors): Embedding(9724, 15)\n",
       "  (genre_factors): Linear(in_features=22, out_features=15, bias=True)\n",
       ")"
      ]
     },
     "execution_count": 15,
     "metadata": {},
     "output_type": "execute_result"
    }
   ],
   "source": [
    "# Training loop parameter setting\n",
    "n_users = len(ratings[\"userId\"].unique())\n",
    "n_movies = len(ratings[\"movieId\"].unique())\n",
    "n_genres = len(set(\"|\".join(grouped_rating[\"genres\"]).split(\"|\")))\n",
    "\n",
    "n_factors = 15\n",
    "\n",
    "model = MatrixFactorization(n_users, n_movies, n_factors, n_genres)\n",
    "\n",
    "criterion = nn.MSELoss()\n",
    "optimizer = optim.AdamW(model.parameters(), lr=0.001, weight_decay=0.06)\n",
    "scheduler = ReduceLROnPlateau(optimizer, verbose=True)\n",
    "\n",
    "# Move the model to GPU if available\n",
    "device = torch.device(\"cuda\" if torch.cuda.is_available() else \"cpu\")\n",
    "model.to(device)"
   ]
  },
  {
   "cell_type": "code",
   "execution_count": 16,
   "id": "f0b70332",
   "metadata": {
    "execution": {
     "iopub.execute_input": "2023-11-17T11:43:21.414314Z",
     "iopub.status.busy": "2023-11-17T11:43:21.413410Z",
     "iopub.status.idle": "2023-11-17T11:43:48.242203Z",
     "shell.execute_reply": "2023-11-17T11:43:48.241288Z"
    },
    "id": "507bec7e",
    "outputId": "d2d90ab1-5c8a-401a-99c3-2aa72a34e52b",
    "papermill": {
     "duration": 26.842652,
     "end_time": "2023-11-17T11:43:48.245837",
     "exception": false,
     "start_time": "2023-11-17T11:43:21.403185",
     "status": "completed"
    },
    "tags": []
   },
   "outputs": [
    {
     "name": "stderr",
     "output_type": "stream",
     "text": [
      "Training:  14%|█▍        | 1/7 [00:04<00:25,  4.27s/epoch]"
     ]
    },
    {
     "name": "stdout",
     "output_type": "stream",
     "text": [
      "Epoch: 0, Train Loss: 0.871, \n"
     ]
    },
    {
     "name": "stderr",
     "output_type": "stream",
     "text": [
      "Training:  29%|██▊       | 2/7 [00:08<00:19,  3.97s/epoch]"
     ]
    },
    {
     "name": "stdout",
     "output_type": "stream",
     "text": [
      "Epoch: 1, Train Loss: 0.736, \n"
     ]
    },
    {
     "name": "stderr",
     "output_type": "stream",
     "text": [
      "Training:  43%|████▎     | 3/7 [00:11<00:15,  3.86s/epoch]"
     ]
    },
    {
     "name": "stdout",
     "output_type": "stream",
     "text": [
      "Epoch: 2, Train Loss: 0.665, \n"
     ]
    },
    {
     "name": "stderr",
     "output_type": "stream",
     "text": [
      "Training:  57%|█████▋    | 4/7 [00:15<00:11,  3.89s/epoch]"
     ]
    },
    {
     "name": "stdout",
     "output_type": "stream",
     "text": [
      "Epoch: 3, Train Loss: 0.618, \n"
     ]
    },
    {
     "name": "stderr",
     "output_type": "stream",
     "text": [
      "Training:  71%|███████▏  | 5/7 [00:19<00:07,  3.80s/epoch]"
     ]
    },
    {
     "name": "stdout",
     "output_type": "stream",
     "text": [
      "Epoch: 4, Train Loss: 0.580, \n"
     ]
    },
    {
     "name": "stderr",
     "output_type": "stream",
     "text": [
      "Training:  86%|████████▌ | 6/7 [00:23<00:03,  3.78s/epoch]"
     ]
    },
    {
     "name": "stdout",
     "output_type": "stream",
     "text": [
      "Epoch: 5, Train Loss: 0.548, \n"
     ]
    },
    {
     "name": "stderr",
     "output_type": "stream",
     "text": [
      "Training: 100%|██████████| 7/7 [00:26<00:00,  3.83s/epoch]"
     ]
    },
    {
     "name": "stdout",
     "output_type": "stream",
     "text": [
      "Epoch: 6, Train Loss: 0.521, \n",
      "Training complete!\n"
     ]
    },
    {
     "name": "stderr",
     "output_type": "stream",
     "text": [
      "\n"
     ]
    }
   ],
   "source": [
    "# Training loop routine\n",
    "epoch_train_losses, epoch_val_losses, epoch_val_rmse = [], [], []\n",
    "\n",
    "num_epochs = 7\n",
    "\n",
    "for epoch in tqdm(range(num_epochs), desc=\"Training\", unit=\"epoch\"):\n",
    "    train_losses, val_losses = [], []\n",
    "    predicted_ratings, true_ratings = [], []\n",
    "\n",
    "    for batch_x, batch_y, batch_genres in train_dataloader:\n",
    "        # Get the data\n",
    "        users = batch_x[0].to(device)\n",
    "        movies = batch_x[1].to(device)\n",
    "\n",
    "        genres = batch_genres.to(device)\n",
    "        batch_y = batch_y.to(device, dtype=torch.float)\n",
    "        \n",
    "        # Set the gradients to zero\n",
    "        optimizer.zero_grad()\n",
    "\n",
    "        # Forward pass\n",
    "        outputs = model(users, movies, genres)\n",
    "\n",
    "        # Calculate the loss\n",
    "        loss = criterion(outputs, batch_y)\n",
    "\n",
    "        # Backward pass and optimization\n",
    "        loss.backward()\n",
    "        optimizer.step()\n",
    "\n",
    "        # Keep track of the loss\n",
    "        train_losses.append(loss.item())\n",
    "\n",
    "    # Calculate statistics\n",
    "    epoch_train_loss = np.mean(train_losses)\n",
    "    epoch_train_losses.append(epoch_train_loss)\n",
    "\n",
    "    # Print the results for this epoch:\n",
    "    s = f\"Epoch: {epoch}, Train Loss: {epoch_train_loss:0.3f}, \"\n",
    "    print(s)\n",
    "\n",
    "print(\"Training complete!\")"
   ]
  },
  {
   "cell_type": "markdown",
   "id": "5b25f6e3",
   "metadata": {
    "papermill": {
     "duration": 0.008735,
     "end_time": "2023-11-17T11:43:48.263588",
     "exception": false,
     "start_time": "2023-11-17T11:43:48.254853",
     "status": "completed"
    },
    "tags": []
   },
   "source": [
    "At this point, we have a trained Matrix Factorization model and we are ready to generate the predictions!"
   ]
  },
  {
   "cell_type": "markdown",
   "id": "b8bb80db",
   "metadata": {
    "id": "9d9b822f",
    "papermill": {
     "duration": 0.00902,
     "end_time": "2023-11-17T11:43:48.281808",
     "exception": false,
     "start_time": "2023-11-17T11:43:48.272788",
     "status": "completed"
    },
    "tags": []
   },
   "source": [
    "## Section 3: User Rating Prediction Generation 🔧\n",
    "\n",
    "Now that we completed the training of the Matrix Factorization model, we generate the predictions to be submitted to Kaggle."
   ]
  },
  {
   "cell_type": "markdown",
   "id": "d341a7fd",
   "metadata": {
    "papermill": {
     "duration": 0.008923,
     "end_time": "2023-11-17T11:43:48.300315",
     "exception": false,
     "start_time": "2023-11-17T11:43:48.291392",
     "status": "completed"
    },
    "tags": []
   },
   "source": [
    "### Generate the predictions by running the testing data."
   ]
  },
  {
   "cell_type": "code",
   "execution_count": 17,
   "id": "825b3663",
   "metadata": {
    "execution": {
     "iopub.execute_input": "2023-11-17T11:43:48.379004Z",
     "iopub.status.busy": "2023-11-17T11:43:48.378622Z",
     "iopub.status.idle": "2023-11-17T11:43:53.181404Z",
     "shell.execute_reply": "2023-11-17T11:43:53.180477Z"
    },
    "id": "FJ6qxMMWSoJZ",
    "papermill": {
     "duration": 4.815172,
     "end_time": "2023-11-17T11:43:53.183224",
     "exception": false,
     "start_time": "2023-11-17T11:43:48.368052",
     "status": "completed"
    },
    "tags": []
   },
   "outputs": [
    {
     "data": {
      "text/html": [
       "<div>\n",
       "<style scoped>\n",
       "    .dataframe tbody tr th:only-of-type {\n",
       "        vertical-align: middle;\n",
       "    }\n",
       "\n",
       "    .dataframe tbody tr th {\n",
       "        vertical-align: top;\n",
       "    }\n",
       "\n",
       "    .dataframe thead th {\n",
       "        text-align: right;\n",
       "    }\n",
       "</style>\n",
       "<table border=\"1\" class=\"dataframe\">\n",
       "  <thead>\n",
       "    <tr style=\"text-align: right;\">\n",
       "      <th></th>\n",
       "      <th>Id</th>\n",
       "      <th>rating</th>\n",
       "    </tr>\n",
       "  </thead>\n",
       "  <tbody>\n",
       "    <tr>\n",
       "      <th>0</th>\n",
       "      <td>0</td>\n",
       "      <td>3.348304</td>\n",
       "    </tr>\n",
       "    <tr>\n",
       "      <th>1</th>\n",
       "      <td>1</td>\n",
       "      <td>3.296681</td>\n",
       "    </tr>\n",
       "    <tr>\n",
       "      <th>2</th>\n",
       "      <td>2</td>\n",
       "      <td>2.482054</td>\n",
       "    </tr>\n",
       "    <tr>\n",
       "      <th>3</th>\n",
       "      <td>3</td>\n",
       "      <td>3.548125</td>\n",
       "    </tr>\n",
       "    <tr>\n",
       "      <th>4</th>\n",
       "      <td>4</td>\n",
       "      <td>3.535537</td>\n",
       "    </tr>\n",
       "  </tbody>\n",
       "</table>\n",
       "</div>"
      ],
      "text/plain": [
       "   Id    rating\n",
       "0   0  3.348304\n",
       "1   1  3.296681\n",
       "2   2  2.482054\n",
       "3   3  3.548125\n",
       "4   4  3.535537"
      ]
     },
     "execution_count": 17,
     "metadata": {},
     "output_type": "execute_result"
    }
   ],
   "source": [
    "# Create a list to store the predicted ratings\n",
    "predicted_ratings = []\n",
    "\n",
    "model.eval()\n",
    "for user_movie_Id, _, genre_vector in test_dataloader:\n",
    "    # Fetch the data\n",
    "    user_id = user_movie_Id[0].to(device)\n",
    "    movie_id = user_movie_Id[1].to(device)\n",
    "    genre_vector_ = genre_vector.to(device)\n",
    "\n",
    "    # Generate the rating prediction\n",
    "    predicted_rating = model(user_id, movie_id, genre_vector_)\n",
    "    \n",
    "    # Keep the results\n",
    "    predicted_ratings.append(predicted_rating.item())\n",
    "\n",
    "# Add the data to the final dataframe\n",
    "test_ratings[\"rating\"] = predicted_ratings\n",
    "test_ratings.reset_index(inplace=True)\n",
    "test_ratings.rename(columns={\"index\": \"Id\"}, inplace=True)\n",
    "\n",
    "# Keep only the columns needed for the submission\n",
    "test_ratings.drop(columns=[\"userId\", \"movieId\", \"genres\"], inplace=True)\n",
    "\n",
    "test_ratings.head()"
   ]
  },
  {
   "cell_type": "markdown",
   "id": "dcfc09e1",
   "metadata": {
    "papermill": {
     "duration": 0.008387,
     "end_time": "2023-11-17T11:43:53.200572",
     "exception": false,
     "start_time": "2023-11-17T11:43:53.192185",
     "status": "completed"
    },
    "tags": []
   },
   "source": [
    "### Save the generated predictions for submission"
   ]
  },
  {
   "cell_type": "code",
   "execution_count": 18,
   "id": "0df985c6",
   "metadata": {
    "execution": {
     "iopub.execute_input": "2023-11-17T11:43:53.220494Z",
     "iopub.status.busy": "2023-11-17T11:43:53.219391Z",
     "iopub.status.idle": "2023-11-17T11:43:53.263041Z",
     "shell.execute_reply": "2023-11-17T11:43:53.261978Z"
    },
    "id": "WpnIdtL_gFxZ",
    "outputId": "0a1c774a-65c4-4f8d-becb-b9097bc3750d",
    "papermill": {
     "duration": 0.055648,
     "end_time": "2023-11-17T11:43:53.265163",
     "exception": false,
     "start_time": "2023-11-17T11:43:53.209515",
     "status": "completed"
    },
    "tags": []
   },
   "outputs": [
    {
     "name": "stdout",
     "output_type": "stream",
     "text": [
      "Predictions saved to final_predictions.csv\n"
     ]
    }
   ],
   "source": [
    "# Save the predictions to a csv file\n",
    "filename = \"final_predictions.csv\"\n",
    "test_ratings.to_csv(filename, index=False)\n",
    "\n",
    "print(f\"Predictions saved to {filename}\")"
   ]
  }
 ],
 "metadata": {
  "accelerator": "GPU",
  "colab": {
   "gpuType": "T4",
   "provenance": []
  },
  "kaggle": {
   "accelerator": "none",
   "dataSources": [
    {
     "databundleVersionId": 6793654,
     "sourceId": 62199,
     "sourceType": "competition"
    },
    {
     "datasetId": 4013523,
     "sourceId": 6983480,
     "sourceType": "datasetVersion"
    },
    {
     "datasetId": 4014163,
     "sourceId": 6984556,
     "sourceType": "datasetVersion"
    }
   ],
   "dockerImageVersionId": 30587,
   "isGpuEnabled": false,
   "isInternetEnabled": true,
   "language": "python",
   "sourceType": "notebook"
  },
  "kernelspec": {
   "display_name": "Python 3",
   "language": "python",
   "name": "python3"
  },
  "language_info": {
   "codemirror_mode": {
    "name": "ipython",
    "version": 3
   },
   "file_extension": ".py",
   "mimetype": "text/x-python",
   "name": "python",
   "nbconvert_exporter": "python",
   "pygments_lexer": "ipython3",
   "version": "3.10.12"
  },
  "papermill": {
   "default_parameters": {},
   "duration": 42.328216,
   "end_time": "2023-11-17T11:43:54.297821",
   "environment_variables": {},
   "exception": null,
   "input_path": "__notebook__.ipynb",
   "output_path": "__notebook__.ipynb",
   "parameters": {},
   "start_time": "2023-11-17T11:43:11.969605",
   "version": "2.4.0"
  }
 },
 "nbformat": 4,
 "nbformat_minor": 5
}
